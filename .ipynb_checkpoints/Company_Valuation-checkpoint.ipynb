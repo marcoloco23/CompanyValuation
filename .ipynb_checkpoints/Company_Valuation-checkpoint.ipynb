{
 "cells": [
  {
   "cell_type": "code",
   "execution_count": 2,
   "metadata": {},
   "outputs": [],
   "source": [
    "import pandas as pd\n",
    "import numpy as np\n",
    "import matplotlib.pyplot as plt\n",
    "import streamlit as st"
   ]
  },
  {
   "cell_type": "code",
   "execution_count": 138,
   "metadata": {},
   "outputs": [],
   "source": [
    "plt.style.use('fivethirtyeight')\n",
    "plt.rcParams['figure.figsize'] = [12,6]\n",
    "import seaborn as sns"
   ]
  },
  {
   "cell_type": "code",
   "execution_count": 4,
   "metadata": {},
   "outputs": [],
   "source": [
    "import requests\n",
    "from bs4 import BeautifulSoup as bs"
   ]
  },
  {
   "cell_type": "code",
   "execution_count": 5,
   "metadata": {},
   "outputs": [],
   "source": [
    "from urllib.request import urlopen\n",
    "import json\n",
    "def get_jsonparsed_data(url):\n",
    "    response = urlopen(url)\n",
    "    data = response.read().decode(\"utf-8\")\n",
    "    return json.loads(data)"
   ]
  },
  {
   "cell_type": "code",
   "execution_count": 6,
   "metadata": {},
   "outputs": [],
   "source": [
    "base_url = \"https://financialmodelingprep.com/api/v3/\""
   ]
  },
  {
   "cell_type": "code",
   "execution_count": 158,
   "metadata": {},
   "outputs": [],
   "source": [
    "import pandas as pd\n",
    "table=pd.read_html('https://en.wikipedia.org/wiki/List_of_S%26P_500_companies')\n",
    "df = table[0]\n",
    "df = df.iloc[:,0]\n",
    "df.head()\n",
    "stocks = np.array(sorted(df.tolist()))"
   ]
  },
  {
   "cell_type": "code",
   "execution_count": 123,
   "metadata": {},
   "outputs": [
    {
     "data": {
      "text/plain": [
       "('You selected: ', 'MMM')"
      ]
     },
     "execution_count": 123,
     "metadata": {},
     "output_type": "execute_result"
    }
   ],
   "source": [
    "apiKey = \"89f5d1f558c5ccf28999c7529f14af21\"\n",
    "\n",
    "ticker = st.selectbox(\n",
    "    'Stock Ticker?', stocks)\n",
    "\n",
    "'You selected: ', ticker"
   ]
  },
  {
   "cell_type": "code",
   "execution_count": 124,
   "metadata": {},
   "outputs": [],
   "source": [
    "q_cash_flow_statement = pd.DataFrame(get_jsonparsed_data(base_url+'cash-flow-statement/'+ticker+'?period=quarter'+'&apikey='+apiKey))\n",
    "q_cash_flow_statement = q_cash_flow_statement.set_index('date').iloc[:4]\n",
    "q_cash_flow_statement = q_cash_flow_statement.apply(pd.to_numeric, errors='coerce')"
   ]
  },
  {
   "cell_type": "code",
   "execution_count": 125,
   "metadata": {},
   "outputs": [],
   "source": [
    "cash_flow_statement = pd.DataFrame(get_jsonparsed_data(base_url+'cash-flow-statement/'+ticker+'?apikey='+apiKey))\n",
    "cash_flow_statement = cash_flow_statement.set_index('date')\n",
    "cash_flow_statement = cash_flow_statement.apply(pd.to_numeric, errors='coerce')"
   ]
  },
  {
   "cell_type": "code",
   "execution_count": 126,
   "metadata": {},
   "outputs": [],
   "source": [
    "ttm_cash_flow_statement = q_cash_flow_statement.sum()\n",
    "cash_flow_statement = cash_flow_statement[::-1].append(ttm_cash_flow_statement.rename('TTM')).drop(['netIncome'],axis=1)\n",
    "final_cash_flow_statement = cash_flow_statement[::-1]"
   ]
  },
  {
   "cell_type": "code",
   "execution_count": 127,
   "metadata": {},
   "outputs": [
    {
     "data": {
      "text/plain": [
       "<streamlit.delta_generator.DeltaGenerator at 0x7fdd21104c90>"
      ]
     },
     "execution_count": 127,
     "metadata": {},
     "output_type": "execute_result"
    },
    {
     "data": {
      "image/png": "[encoded data removed]",
      "text/plain": [
       "<Figure size 864x432 with 1 Axes>"
      ]
     },
     "metadata": {},
     "output_type": "display_data"
    }
   ],
   "source": [
    "final_cash_flow_statement[['freeCashFlow']].iloc[::-1].iloc[-15:].plot(kind='bar', title=ticker +' Cash Flows')\n",
    "st.bar_chart(final_cash_flow_statement[['freeCashFlow']].iloc[::-1].iloc[-15:])"
   ]
  },
  {
   "cell_type": "code",
   "execution_count": 128,
   "metadata": {},
   "outputs": [],
   "source": [
    "q_balance_statement = pd.DataFrame(get_jsonparsed_data(base_url+'balance-sheet-statement/' + ticker + '?period=quarter' + '&apikey=' + apiKey))\n",
    "q_balance_statement = q_balance_statement.set_index('date')\n",
    "q_balance_statement = q_balance_statement.apply(pd.to_numeric, errors='coerce')"
   ]
  },
  {
   "cell_type": "code",
   "execution_count": 129,
   "metadata": {},
   "outputs": [],
   "source": [
    "cash_flow = final_cash_flow_statement.iloc[0]['freeCashFlow']\n",
    "total_debt = q_balance_statement.iloc[0]['totalDebt'] \n",
    "cash_and_ST_investments = q_balance_statement.iloc[0]['cashAndShortTermInvestments']"
   ]
  },
  {
   "cell_type": "code",
   "execution_count": 145,
   "metadata": {},
   "outputs": [],
   "source": [
    "# List of data we want to extract from Finviz Table\n",
    "metric = ['Price', 'EPS next 5Y', 'Beta', 'Shs Outstand','P/E']\n",
    "\n",
    "def fundamental_metric(soup, metric):\n",
    "    # the table which stores the data in Finviz has html table attribute class of 'snapshot-td2'\n",
    "    return soup.find(text = metric).find_next(class_='snapshot-td2').text\n",
    "   \n",
    "def get_finviz_data(ticker):\n",
    "    try:\n",
    "        url = (\"http://finviz.com/quote.ashx?t=\" + ticker.lower())\n",
    "        soup = bs(requests.get(url,headers={'User-Agent': 'Mozilla/5.0 (Windows NT 6.1; WOW64; rv:20.0) Gecko/20100101 Firefox/20.0'}).content)\n",
    "        dict_finviz = {}        \n",
    "        for m in metric:   \n",
    "            dict_finviz[m] = fundamental_metric(soup,m)\n",
    "        for key, value in dict_finviz.items():\n",
    "            # replace percentages\n",
    "            if (value[-1]=='%'):\n",
    "                dict_finviz[key] = value[:-1]\n",
    "                dict_finviz[key] = float(dict_finviz[key])\n",
    "            # billion\n",
    "            if (value[-1]=='B'):\n",
    "                dict_finviz[key] = value[:-1]\n",
    "                dict_finviz[key] = float(dict_finviz[key])*1000000000  \n",
    "            # million\n",
    "            if (value[-1]=='M'):\n",
    "                dict_finviz[key] = value[:-1]\n",
    "                dict_finviz[key] = float(dict_finviz[key])*1000000\n",
    "            try:\n",
    "                dict_finviz[key] = float(dict_finviz[key])\n",
    "            except:\n",
    "                pass \n",
    "    except Exception as e:\n",
    "        print (e)\n",
    "        print ('Not successful parsing ' + ticker + ' data.')        \n",
    "    return dict_finviz\n",
    "\n",
    "finviz_data = get_finviz_data(ticker)"
   ]
  },
  {
   "cell_type": "code",
   "execution_count": 131,
   "metadata": {},
   "outputs": [],
   "source": [
    "Beta = finviz_data['Beta']\n",
    "discount_rate = 7\n",
    "if(Beta<0.80):\n",
    "    discount_rate = 5\n",
    "elif(Beta>=0.80 and Beta<1):\n",
    "    discount_rate = 6\n",
    "elif(Beta>=1 and Beta<1.1):\n",
    "    discount_rate = 6.5\n",
    "elif(Beta>=1.1 and Beta<1.2):\n",
    "    discount_rate = 7\n",
    "elif(Beta>=1.2 and Beta<1.3):\n",
    "    discount_rate =7.5\n",
    "elif(Beta>=1.3 and Beta<1.4):\n",
    "    discount_rate = 8\n",
    "elif(Beta>=1.4 and Beta<1.6):\n",
    "    discount_rate = 8.5\n",
    "elif(Beta>=1.61):\n",
    "    discount_rate = 9   "
   ]
  },
  {
   "cell_type": "code",
   "execution_count": 161,
   "metadata": {},
   "outputs": [],
   "source": [
    "EPS_growth_5Y = finviz_data['EPS next 5Y']\n",
    "EPS_growth_6Y_to_10Y = EPS_growth_5Y/2  # Half the previous growth rate, conservative estimate\n",
    "EPS_growth_11Y_to_20Y  = np.minimum(EPS_growth_6Y_to_10Y, 4)  # Slightly higher than long term inflation rate, conservative estimate\n",
    "PE = finviz_data['P/E']\n",
    "shares_outstanding = finviz_data['Shs Outstand']"
   ]
  },
  {
   "cell_type": "code",
   "execution_count": 162,
   "metadata": {},
   "outputs": [],
   "source": [
    "st.write(\"Free Cash Flow: \", cash_flow)\n",
    "st.write(\"Total Debt: \", total_debt)\n",
    "st.write(\"Cash and ST Investments: \", cash_and_ST_investments)\n",
    "st.write(\"EPS Growth 5Y: \", EPS_growth_5Y)\n",
    "st.write(\"EPS Growth 6Y to 10Y: \", EPS_growth_6Y_to_10Y)\n",
    "st.write(\"EPS Growth 11Y to 20Y: \", EPS_growth_11Y_to_20Y)\n",
    "st.write(\"P/E: \", PE)\n",
    "st.write(\"Beta: \", Beta)\n",
    "st.write(\"Discount Rate: \", discount_rate)\n",
    "st.write(\"Shares Outstanding: \", shares_outstanding)"
   ]
  },
  {
   "cell_type": "code",
   "execution_count": 166,
   "metadata": {},
   "outputs": [
    {
     "name": "stdout",
     "output_type": "stream",
     "text": [
      "<streamlit.delta_generator.DeltaGenerator object at 0x7fdd21104c90>\n"
     ]
    },
    {
     "data": {
      "image/png": "[encoded data removed]",
      "text/plain": [
       "<Figure size 864x432 with 1 Axes>"
      ]
     },
     "metadata": {},
     "output_type": "display_data"
    }
   ],
   "source": [
    "def calculate_intrinsic_value(cash_flow, total_debt, cash_and_ST_investments, \n",
    "                                  EPS_growth_5Y, EPS_growth_6Y_to_10Y, EPS_growth_11Y_to_20Y,\n",
    "                                  shares_outstanding, discount_rate):   \n",
    "    \n",
    "    # Convert all percentages to decmials\n",
    "    EPS_growth_5Y_d = EPS_growth_5Y/100\n",
    "    EPS_growth_6Y_to_10Y_d = EPS_growth_6Y_to_10Y/100\n",
    "    EPS_growth_11Y_to_20Y_d = EPS_growth_11Y_to_20Y/100\n",
    "    discount_rate_d = discount_rate/100\n",
    "    \n",
    "    # Lists of projected cash flows from year 1 to year 20\n",
    "    cash_flow_list = []\n",
    "    cash_flow_discounted_list = []\n",
    "    year_list = []\n",
    "    \n",
    "    \n",
    "    # Years 1 to 5\n",
    "    for year in range(1, 6):\n",
    "        year_list.append(year)\n",
    "        cash_flow*=(1 + EPS_growth_5Y_d)        \n",
    "        cash_flow_list.append(cash_flow)\n",
    "        cash_flow_discounted = cash_flow/((1 + discount_rate_d)**year)\n",
    "        cash_flow_discounted_list.append(cash_flow_discounted)\n",
    "    \n",
    "    \n",
    "    # Years 6 to 10\n",
    "    for year in range(6, 11):\n",
    "        year_list.append(year)\n",
    "        cash_flow*=(1 + EPS_growth_6Y_to_10Y_d)\n",
    "        cash_flow_list.append(cash_flow)\n",
    "        cash_flow_discounted = cash_flow/((1 + discount_rate_d)**year)\n",
    "        cash_flow_discounted_list.append(cash_flow_discounted)\n",
    "\n",
    "        \n",
    "    # Years 11 to 20\n",
    "    for year in range(11, 21):\n",
    "        year_list.append(year)\n",
    "        cash_flow*=(1 + EPS_growth_11Y_to_20Y_d)\n",
    "        cash_flow_list.append(cash_flow)\n",
    "        cash_flow_discounted = cash_flow/((1 + discount_rate_d)**year)\n",
    "        cash_flow_discounted_list.append(cash_flow_discounted)\n",
    "\n",
    "    \n",
    "    intrinsic_value = (sum(cash_flow_discounted_list) - total_debt + cash_and_ST_investments)/shares_outstanding\n",
    "    df = pd.DataFrame.from_dict({'Year': year_list, 'Cash Flow': cash_flow_list, 'Discounted Cash Flow': cash_flow_discounted_list})\n",
    "    df.index = df.Year\n",
    "    df.plot(kind='bar', title = 'Projected Cash Flows of ' + ticker)\n",
    "\n",
    "    return intrinsic_value, df\n",
    "\n",
    "\n",
    "intrinsic_value = calculate_intrinsic_value(cash_flow, total_debt, cash_and_ST_investments, \n",
    "                                  EPS_growth_5Y, EPS_growth_6Y_to_10Y, EPS_growth_11Y_to_20Y,\n",
    "                                  shares_outstanding, discount_rate)\n",
    "\n",
    "print(st.bar_chart(df))"
   ]
  },
  {
   "cell_type": "code",
   "execution_count": 150,
   "metadata": {},
   "outputs": [
    {
     "name": "stdout",
     "output_type": "stream",
     "text": [
      "Intrinsic Value:  140.8053631291515\n",
      "Current Price:  164.9\n",
      "Margin of Safety:  -17.1120164284851\n"
     ]
    }
   ],
   "source": [
    "print(\"Intrinsic Value: \", intrinsic_value)\n",
    "current_price = finviz_data['Price']\n",
    "print(\"Current Price: \", current_price)\n",
    "print(\"Margin of Safety: \", (1-current_price/intrinsic_value)*100)    "
   ]
  },
  {
   "cell_type": "code",
   "execution_count": 151,
   "metadata": {},
   "outputs": [],
   "source": [
    "st.write(\"Intrinsic Value: \", intrinsic_value)\n",
    "st.write(\"Current Price: \", current_price)\n",
    "st.write(\"Margin of Safety: \", (1-current_price/intrinsic_value)*100)"
   ]
  },
  {
   "cell_type": "code",
   "execution_count": null,
   "metadata": {},
   "outputs": [],
   "source": []
  }
 ],
 "metadata": {
  "kernelspec": {
   "display_name": "Python 3",
   "language": "python",
   "name": "python3"
  },
  "language_info": {
   "codemirror_mode": {
    "name": "ipython",
    "version": 3
   },
   "file_extension": ".py",
   "mimetype": "text/x-python",
   "name": "python",
   "nbconvert_exporter": "python",
   "pygments_lexer": "ipython3",
   "version": "3.7.4"
  }
 },
 "nbformat": 4,
 "nbformat_minor": 2
}
